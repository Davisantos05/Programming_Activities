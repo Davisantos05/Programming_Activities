{
  "nbformat": 4,
  "nbformat_minor": 0,
  "metadata": {
    "colab": {
      "provenance": [],
      "authorship_tag": "ABX9TyOUseviA204W9joPZwGl2f6",
      "include_colab_link": true
    },
    "kernelspec": {
      "name": "python3",
      "display_name": "Python 3"
    },
    "language_info": {
      "name": "python"
    }
  },
  "cells": [
    {
      "cell_type": "markdown",
      "metadata": {
        "id": "view-in-github",
        "colab_type": "text"
      },
      "source": [
        "<a href=\"https://colab.research.google.com/github/Davisantos05/Programming_Activities/blob/main/areaquadrado.ipynb\" target=\"_parent\"><img src=\"https://colab.research.google.com/assets/colab-badge.svg\" alt=\"Open In Colab\"/></a>"
      ]
    },
    {
      "cell_type": "markdown",
      "source": [
        "meu primeiro código"
      ],
      "metadata": {
        "id": "teMSIZrLXafT"
      }
    },
    {
      "cell_type": "code",
      "execution_count": null,
      "metadata": {
        "id": "MM8oaIw6DrNr"
      },
      "outputs": [],
      "source": [
        "aula=\"hello world\""
      ]
    },
    {
      "cell_type": "code",
      "source": [
        "print(aula)"
      ],
      "metadata": {
        "colab": {
          "base_uri": "https://localhost:8080/"
        },
        "id": "14YNVfuOVzTM",
        "outputId": "dcf50cf7-e335-413c-8c9f-5cf6f9d65f1c"
      },
      "execution_count": null,
      "outputs": [
        {
          "output_type": "stream",
          "name": "stdout",
          "text": [
            "hello world\n"
          ]
        }
      ]
    },
    {
      "cell_type": "markdown",
      "source": [
        "###primeira conta"
      ],
      "metadata": {
        "id": "AeFXwSKqMIB_"
      }
    },
    {
      "cell_type": "code",
      "source": [
        "#entrada\n",
        "lado=4\n",
        "area = lado * lado"
      ],
      "metadata": {
        "id": "K5BEJCtAWew_"
      },
      "execution_count": null,
      "outputs": []
    },
    {
      "cell_type": "code",
      "source": [
        "#saida\n",
        "print(\"A area do quadrado é\",area)"
      ],
      "metadata": {
        "colab": {
          "base_uri": "https://localhost:8080/"
        },
        "id": "L8ZMPc-JYC0X",
        "outputId": "42108014-702a-499f-cc3a-446de5a182a1"
      },
      "execution_count": null,
      "outputs": [
        {
          "output_type": "stream",
          "name": "stdout",
          "text": [
            "A area do quadrado é 16\n"
          ]
        }
      ]
    }
  ]
}