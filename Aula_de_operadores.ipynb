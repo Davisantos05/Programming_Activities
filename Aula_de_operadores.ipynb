{
  "nbformat": 4,
  "nbformat_minor": 0,
  "metadata": {
    "colab": {
      "provenance": [],
      "authorship_tag": "ABX9TyMQY3wBi8gsaqMLjn6xMMmF",
      "include_colab_link": true
    },
    "kernelspec": {
      "name": "python3",
      "display_name": "Python 3"
    },
    "language_info": {
      "name": "python"
    }
  },
  "cells": [
    {
      "cell_type": "markdown",
      "metadata": {
        "id": "view-in-github",
        "colab_type": "text"
      },
      "source": [
        "<a href=\"https://colab.research.google.com/github/Davisantos05/Programming_Activities/blob/main/Aula_de_operadores.ipynb\" target=\"_parent\"><img src=\"https://colab.research.google.com/assets/colab-badge.svg\" alt=\"Open In Colab\"/></a>"
      ]
    },
    {
      "cell_type": "code",
      "execution_count": null,
      "metadata": {
        "id": "CU3LACcBd63c"
      },
      "outputs": [],
      "source": [
        "l=4\n",
        "a=l*l"
      ]
    },
    {
      "cell_type": "code",
      "source": [
        "print(\"A area do quadrado é igual\",a)"
      ],
      "metadata": {
        "colab": {
          "base_uri": "https://localhost:8080/"
        },
        "id": "EN7N1zwSev-2",
        "outputId": "a15e8285-3a5c-45f3-cff9-542d876fe286"
      },
      "execution_count": null,
      "outputs": [
        {
          "output_type": "stream",
          "name": "stdout",
          "text": [
            "A area do quadrado é igual 16\n"
          ]
        }
      ]
    },
    {
      "cell_type": "code",
      "source": [
        "a=l**2"
      ],
      "metadata": {
        "id": "_ysyDMgHe9b3"
      },
      "execution_count": null,
      "outputs": []
    },
    {
      "cell_type": "code",
      "source": [
        "a\n"
      ],
      "metadata": {
        "colab": {
          "base_uri": "https://localhost:8080/"
        },
        "id": "Z_d7qfI8fBZH",
        "outputId": "89209d91-a7fb-4d90-bc8a-ee0134675b4b"
      },
      "execution_count": null,
      "outputs": [
        {
          "output_type": "execute_result",
          "data": {
            "text/plain": [
              "16"
            ]
          },
          "metadata": {},
          "execution_count": 5
        }
      ]
    },
    {
      "cell_type": "markdown",
      "source": [
        "###SOMA"
      ],
      "metadata": {
        "id": "RKlS50bEg22r"
      }
    },
    {
      "cell_type": "code",
      "source": [
        "2+2\n"
      ],
      "metadata": {
        "colab": {
          "base_uri": "https://localhost:8080/"
        },
        "id": "vcEGCHZ_fCAA",
        "outputId": "59a15e0d-fc1e-404c-ed58-2a1e7cb62bf8"
      },
      "execution_count": null,
      "outputs": [
        {
          "output_type": "execute_result",
          "data": {
            "text/plain": [
              "4"
            ]
          },
          "metadata": {},
          "execution_count": 6
        }
      ]
    },
    {
      "cell_type": "code",
      "source": [
        "3+8\n"
      ],
      "metadata": {
        "colab": {
          "base_uri": "https://localhost:8080/"
        },
        "id": "s1tG_5XXg62i",
        "outputId": "7a57fead-fc48-4e3e-fd7f-83f99c999e71"
      },
      "execution_count": null,
      "outputs": [
        {
          "output_type": "execute_result",
          "data": {
            "text/plain": [
              "11"
            ]
          },
          "metadata": {},
          "execution_count": 7
        }
      ]
    },
    {
      "cell_type": "markdown",
      "source": [
        "###subtração\n"
      ],
      "metadata": {
        "id": "VeAcDLlHhJ0Z"
      }
    },
    {
      "cell_type": "code",
      "source": [
        "9-4\n"
      ],
      "metadata": {
        "colab": {
          "base_uri": "https://localhost:8080/"
        },
        "id": "TsIdB5KRhIUV",
        "outputId": "aee9c42a-29bd-4815-f015-3fe0c9d8178d"
      },
      "execution_count": null,
      "outputs": [
        {
          "output_type": "execute_result",
          "data": {
            "text/plain": [
              "5"
            ]
          },
          "metadata": {},
          "execution_count": 8
        }
      ]
    },
    {
      "cell_type": "code",
      "source": [
        "7-6"
      ],
      "metadata": {
        "colab": {
          "base_uri": "https://localhost:8080/"
        },
        "id": "jCyvXWtehSOK",
        "outputId": "e79cb627-f1ce-4183-d233-66a25bde98b5"
      },
      "execution_count": null,
      "outputs": [
        {
          "output_type": "execute_result",
          "data": {
            "text/plain": [
              "1"
            ]
          },
          "metadata": {},
          "execution_count": 9
        }
      ]
    },
    {
      "cell_type": "markdown",
      "source": [
        "multiplicação"
      ],
      "metadata": {
        "id": "MSjq6QwlhUNM"
      }
    },
    {
      "cell_type": "code",
      "source": [
        "4*4\n"
      ],
      "metadata": {
        "colab": {
          "base_uri": "https://localhost:8080/"
        },
        "id": "xGmlNHURhTWq",
        "outputId": "0c41d496-9527-4771-86c1-797635e133a8"
      },
      "execution_count": null,
      "outputs": [
        {
          "output_type": "execute_result",
          "data": {
            "text/plain": [
              "16"
            ]
          },
          "metadata": {},
          "execution_count": 10
        }
      ]
    },
    {
      "cell_type": "markdown",
      "source": [
        "###divisão\n"
      ],
      "metadata": {
        "id": "vKgFBhzehfIK"
      }
    },
    {
      "cell_type": "code",
      "source": [
        "4/5"
      ],
      "metadata": {
        "colab": {
          "base_uri": "https://localhost:8080/"
        },
        "id": "nCBB-7yxheb3",
        "outputId": "0b30432a-85a4-47e9-8d3c-b24b45d7096f"
      },
      "execution_count": null,
      "outputs": [
        {
          "output_type": "execute_result",
          "data": {
            "text/plain": [
              "0.8"
            ]
          },
          "metadata": {},
          "execution_count": 11
        }
      ]
    },
    {
      "cell_type": "code",
      "source": [
        "3/8"
      ],
      "metadata": {
        "colab": {
          "base_uri": "https://localhost:8080/"
        },
        "id": "I56Fbu0Qhnh3",
        "outputId": "9ff1449e-c309-4da4-c8bb-695b380b84e1"
      },
      "execution_count": null,
      "outputs": [
        {
          "output_type": "execute_result",
          "data": {
            "text/plain": [
              "0.375"
            ]
          },
          "metadata": {},
          "execution_count": 14
        }
      ]
    },
    {
      "cell_type": "markdown",
      "source": [
        "###Igualdade"
      ],
      "metadata": {
        "id": "O-x4f2uJifHl"
      }
    },
    {
      "cell_type": "code",
      "source": [
        "# dois iguais significa que está observando se o numero é igual\n",
        "a = 4\n",
        "a==4"
      ],
      "metadata": {
        "colab": {
          "base_uri": "https://localhost:8080/"
        },
        "id": "6ZNTMMMZii0M",
        "outputId": "99bdf3ee-d296-4333-8928-4f0867275808"
      },
      "execution_count": null,
      "outputs": [
        {
          "output_type": "execute_result",
          "data": {
            "text/plain": [
              "True"
            ]
          },
          "metadata": {},
          "execution_count": 25
        }
      ]
    },
    {
      "cell_type": "code",
      "source": [
        "a = 3\n",
        "a==4"
      ],
      "metadata": {
        "colab": {
          "base_uri": "https://localhost:8080/"
        },
        "id": "7u6WD7zMilLj",
        "outputId": "f10c8dc3-a321-4aa5-e36f-23ab0af64657"
      },
      "execution_count": null,
      "outputs": [
        {
          "output_type": "execute_result",
          "data": {
            "text/plain": [
              "False"
            ]
          },
          "metadata": {},
          "execution_count": 19
        }
      ]
    },
    {
      "cell_type": "markdown",
      "source": [
        "### expoente"
      ],
      "metadata": {
        "id": "QG3HoNNYjSkW"
      }
    },
    {
      "cell_type": "code",
      "source": [
        "#Dois asteriscos representa expotente , ou , ao quadrado\n",
        "2**2"
      ],
      "metadata": {
        "colab": {
          "base_uri": "https://localhost:8080/"
        },
        "id": "FKiFS9zFirZR",
        "outputId": "b704bbd0-0242-4fe4-b102-32c01c9c37fa"
      },
      "execution_count": null,
      "outputs": [
        {
          "output_type": "execute_result",
          "data": {
            "text/plain": [
              "4"
            ]
          },
          "metadata": {},
          "execution_count": 24
        }
      ]
    },
    {
      "cell_type": "code",
      "source": [
        "10**3\n"
      ],
      "metadata": {
        "colab": {
          "base_uri": "https://localhost:8080/"
        },
        "id": "VTovMLt5jXZZ",
        "outputId": "b32df542-c799-40b4-df79-71efcc6fdea4"
      },
      "execution_count": null,
      "outputs": [
        {
          "output_type": "execute_result",
          "data": {
            "text/plain": [
              "1000"
            ]
          },
          "metadata": {},
          "execution_count": 21
        }
      ]
    },
    {
      "cell_type": "code",
      "source": [
        "4**3"
      ],
      "metadata": {
        "colab": {
          "base_uri": "https://localhost:8080/"
        },
        "id": "a0FIpMEhjfbB",
        "outputId": "24ddf43b-3307-464f-f523-618fe75b00ba"
      },
      "execution_count": null,
      "outputs": [
        {
          "output_type": "execute_result",
          "data": {
            "text/plain": [
              "64"
            ]
          },
          "metadata": {},
          "execution_count": 23
        }
      ]
    },
    {
      "cell_type": "markdown",
      "source": [
        "###Maior, Menor , Maior igual ou Menor igual"
      ],
      "metadata": {
        "id": "cd58I1MgkSUI"
      }
    },
    {
      "cell_type": "code",
      "source": [
        "5>2"
      ],
      "metadata": {
        "colab": {
          "base_uri": "https://localhost:8080/"
        },
        "id": "sVAmRkcbjjlm",
        "outputId": "fcb084d8-03d0-40ea-9e03-1407eb00994b"
      },
      "execution_count": null,
      "outputs": [
        {
          "output_type": "execute_result",
          "data": {
            "text/plain": [
              "True"
            ]
          },
          "metadata": {},
          "execution_count": 26
        }
      ]
    },
    {
      "cell_type": "code",
      "source": [
        "5>6\n"
      ],
      "metadata": {
        "colab": {
          "base_uri": "https://localhost:8080/"
        },
        "id": "REx9hb6vkrap",
        "outputId": "2a02607e-1ada-4cc2-c466-0c4d29d37bca"
      },
      "execution_count": null,
      "outputs": [
        {
          "output_type": "execute_result",
          "data": {
            "text/plain": [
              "False"
            ]
          },
          "metadata": {},
          "execution_count": 27
        }
      ]
    },
    {
      "cell_type": "code",
      "source": [
        "5<8"
      ],
      "metadata": {
        "colab": {
          "base_uri": "https://localhost:8080/"
        },
        "id": "RO3WZxKQktih",
        "outputId": "56dfd045-2aed-4420-e6fb-9f7dadc5bc79"
      },
      "execution_count": null,
      "outputs": [
        {
          "output_type": "execute_result",
          "data": {
            "text/plain": [
              "True"
            ]
          },
          "metadata": {},
          "execution_count": 28
        }
      ]
    },
    {
      "cell_type": "code",
      "source": [
        "5>5"
      ],
      "metadata": {
        "colab": {
          "base_uri": "https://localhost:8080/"
        },
        "id": "TnBAn1TAlWRB",
        "outputId": "18f6b286-0adf-4bf7-efda-d05f16a7d21d"
      },
      "execution_count": null,
      "outputs": [
        {
          "output_type": "execute_result",
          "data": {
            "text/plain": [
              "False"
            ]
          },
          "metadata": {},
          "execution_count": 36
        }
      ]
    },
    {
      "cell_type": "code",
      "source": [
        "5<=5\n",
        "\n"
      ],
      "metadata": {
        "colab": {
          "base_uri": "https://localhost:8080/"
        },
        "id": "5538u0xFk3Yh",
        "outputId": "4d22cd78-60a3-4490-b2a4-59f169d936b4"
      },
      "execution_count": null,
      "outputs": [
        {
          "output_type": "execute_result",
          "data": {
            "text/plain": [
              "True"
            ]
          },
          "metadata": {},
          "execution_count": 35
        }
      ]
    },
    {
      "cell_type": "code",
      "source": [
        "5<=5\n"
      ],
      "metadata": {
        "colab": {
          "base_uri": "https://localhost:8080/"
        },
        "id": "sWWfHu7AlPxr",
        "outputId": "4b2a5ed6-dccd-4751-90de-aaa66b7c1c8d"
      },
      "execution_count": null,
      "outputs": [
        {
          "output_type": "execute_result",
          "data": {
            "text/plain": [
              "True"
            ]
          },
          "metadata": {},
          "execution_count": 37
        }
      ]
    },
    {
      "cell_type": "code",
      "source": [
        "5-6+8+15*(6/2)+4-9"
      ],
      "metadata": {
        "colab": {
          "base_uri": "https://localhost:8080/"
        },
        "id": "oDP3gdvmmMU7",
        "outputId": "da672796-c28e-4104-9f9f-f35977e318b6"
      },
      "execution_count": null,
      "outputs": [
        {
          "output_type": "execute_result",
          "data": {
            "text/plain": [
              "47.0"
            ]
          },
          "metadata": {},
          "execution_count": 38
        }
      ]
    },
    {
      "cell_type": "markdown",
      "source": [
        "###DIFERENTE\n"
      ],
      "metadata": {
        "id": "JBfowalmnojP"
      }
    },
    {
      "cell_type": "code",
      "source": [
        "a!=4"
      ],
      "metadata": {
        "colab": {
          "base_uri": "https://localhost:8080/"
        },
        "id": "5MSTR24DnnP4",
        "outputId": "3c7d6ab7-e33f-459c-dad2-42e018abd4d6"
      },
      "execution_count": null,
      "outputs": [
        {
          "output_type": "execute_result",
          "data": {
            "text/plain": [
              "False"
            ]
          },
          "metadata": {},
          "execution_count": 39
        }
      ]
    },
    {
      "cell_type": "markdown",
      "source": [
        "variavel"
      ],
      "metadata": {
        "id": "Cf7S41vxntpH"
      }
    },
    {
      "cell_type": "code",
      "source": [
        "nome = \"Davi\"\n",
        "sobrenome = \" luis\"\n",
        "print(\"meu nome é\",nome + sobrenome)"
      ],
      "metadata": {
        "colab": {
          "base_uri": "https://localhost:8080/"
        },
        "id": "NEY02Sz-nsQF",
        "outputId": "72abddde-5eda-4ac0-ca63-eb797ca5e72f"
      },
      "execution_count": null,
      "outputs": [
        {
          "output_type": "stream",
          "name": "stdout",
          "text": [
            "meu nome é Davi luis\n"
          ]
        }
      ]
    },
    {
      "cell_type": "code",
      "source": [
        "\n",
        "nome1 = str(input(\"digite seu sobrenome\"))\n",
        "sobrenome1 = str(input(\"digite seu sobrenome : \"))\n",
        "print(\"meu nome é \" ,nome1 ,\"\" ,sobrenome1 )"
      ],
      "metadata": {
        "colab": {
          "base_uri": "https://localhost:8080/"
        },
        "id": "5kpjmIM7oCaC",
        "outputId": "28c6e35f-de93-41c0-ca5a-95334c41623d"
      },
      "execution_count": null,
      "outputs": [
        {
          "output_type": "stream",
          "name": "stdout",
          "text": [
            "digite seu sobrenome Davi\n",
            "digite seu sobrenome : luis\n",
            "meu nome é   Davi  luis\n"
          ]
        }
      ]
    },
    {
      "cell_type": "code",
      "source": [
        "nome"
      ],
      "metadata": {
        "colab": {
          "base_uri": "https://localhost:8080/",
          "height": 35
        },
        "id": "vYsrpdzPs-_f",
        "outputId": "4a111741-429e-49cf-cab6-1724547b63f3"
      },
      "execution_count": null,
      "outputs": [
        {
          "output_type": "execute_result",
          "data": {
            "text/plain": [
              "'Davi'"
            ],
            "application/vnd.google.colaboratory.intrinsic+json": {
              "type": "string"
            }
          },
          "metadata": {},
          "execution_count": 57
        }
      ]
    },
    {
      "cell_type": "code",
      "source": [
        "nome2=\"ANA\""
      ],
      "metadata": {
        "id": "-dArsFxoteSS"
      },
      "execution_count": null,
      "outputs": []
    },
    {
      "cell_type": "code",
      "source": [
        "nome2"
      ],
      "metadata": {
        "colab": {
          "base_uri": "https://localhost:8080/",
          "height": 35
        },
        "id": "2uz8Fm8vtk0t",
        "outputId": "ccd590b8-5017-4076-9f85-3fba27a8d4d5"
      },
      "execution_count": null,
      "outputs": [
        {
          "output_type": "execute_result",
          "data": {
            "text/plain": [
              "'ANA'"
            ],
            "application/vnd.google.colaboratory.intrinsic+json": {
              "type": "string"
            }
          },
          "metadata": {},
          "execution_count": 60
        }
      ]
    },
    {
      "cell_type": "code",
      "source": [
        "#entrada\n",
        "lado = int(input(\"Digite um numero\"))\n",
        "\n",
        "#processamento\n",
        "area = lado*lado\n",
        "\n",
        "#saida\n",
        "print(\"area é \" , area)"
      ],
      "metadata": {
        "colab": {
          "base_uri": "https://localhost:8080/"
        },
        "id": "zt17PhfwtqGr",
        "outputId": "8d98d978-ce22-4f8a-e7cb-0a013cda82b3"
      },
      "execution_count": null,
      "outputs": [
        {
          "output_type": "stream",
          "name": "stdout",
          "text": [
            "Digite um numero 100\n",
            "area é  10000\n"
          ]
        }
      ]
    },
    {
      "cell_type": "code",
      "source": [],
      "metadata": {
        "id": "ju_5_zWpuJRb"
      },
      "execution_count": null,
      "outputs": []
    },
    {
      "cell_type": "code",
      "source": [
        "#entrada\n",
        "lado = float(input(\"Digite um numero\"))\n",
        "\n",
        "#processamento\n",
        "area = lado*lado\n",
        "\n",
        "#saida\n",
        "print(\"area é \" , area)"
      ],
      "metadata": {
        "colab": {
          "base_uri": "https://localhost:8080/"
        },
        "outputId": "c364792b-cd7d-4939-d006-28b703dc27d0",
        "id": "Ws-5g3Btyf0a"
      },
      "execution_count": null,
      "outputs": [
        {
          "output_type": "stream",
          "name": "stdout",
          "text": [
            "Digite um numero8.6\n",
            "area é  73.96\n"
          ]
        }
      ]
    },
    {
      "cell_type": "markdown",
      "source": [
        "###area do circulo\n"
      ],
      "metadata": {
        "id": "upkD-dg62ztQ"
      }
    },
    {
      "cell_type": "code",
      "source": [
        "# use ponto quando utilizar numeros quebrados\n",
        "pi=3.14"
      ],
      "metadata": {
        "id": "EB-RjXwTylD_"
      },
      "execution_count": null,
      "outputs": []
    },
    {
      "cell_type": "code",
      "source": [
        "r = float(input(\"qual é o raio do seu circulo :\"))\n",
        "areac = r**2 * pi\n",
        "print(\"A area de seu circulo é :\",areac)"
      ],
      "metadata": {
        "colab": {
          "base_uri": "https://localhost:8080/"
        },
        "id": "n-VaBLzf0cTQ",
        "outputId": "2e796ffa-bd94-41ad-a26a-ce86d8400e2a"
      },
      "execution_count": null,
      "outputs": [
        {
          "output_type": "stream",
          "name": "stdout",
          "text": [
            "qual é o raio do seu circulo :2\n",
            "A area de seu circulo é : 12.56\n"
          ]
        }
      ]
    },
    {
      "cell_type": "code",
      "source": [],
      "metadata": {
        "id": "SD5jIQhn06UW"
      },
      "execution_count": null,
      "outputs": []
    }
  ]
}