{
  "cells": [
    {
      "cell_type": "markdown",
      "metadata": {
        "id": "view-in-github",
        "colab_type": "text"
      },
      "source": [
        "<a href=\"https://colab.research.google.com/github/Davisantos05/Programming_Activities/blob/main/media_notas.ipynb\" target=\"_parent\"><img src=\"https://colab.research.google.com/assets/colab-badge.svg\" alt=\"Open In Colab\"/></a>"
      ]
    },
    {
      "cell_type": "code",
      "execution_count": null,
      "metadata": {
        "colab": {
          "base_uri": "https://localhost:8080/"
        },
        "id": "3d3Klzv_e7YQ",
        "outputId": "a2ba58cb-987a-457c-d88d-d2e19abd7d73"
      },
      "outputs": [
        {
          "name": "stdout",
          "output_type": "stream",
          "text": [
            "qual é nota da prova um : 90\n",
            "qual é a nota da prova dois : 76\n",
            "A sua media é 83.0\n"
          ]
        }
      ],
      "source": [
        "\n",
        "#entrada\n",
        "nota1 = float(input(\"qual é nota da prova um : \"))\n",
        "nota2 = float(input(\"qual é a nota da prova dois : \"))\n",
        "\n",
        "#processamento\n",
        "\n",
        "m= (nota1 + nota2) /2\n",
        "\n",
        "\n",
        "#saida\n",
        "\n",
        "print( \"A sua media é\" , m)"
      ]
    },
    {
      "cell_type": "code",
      "execution_count": null,
      "metadata": {
        "colab": {
          "base_uri": "https://localhost:8080/"
        },
        "id": "MExZBDnnfEj7",
        "outputId": "7ccd8fa3-13d0-44f6-9833-9cc10aa10dde"
      },
      "outputs": [
        {
          "name": "stdout",
          "output_type": "stream",
          "text": [
            "Quanto é o valor da peça 5\n",
            " Qual é a quantidade da peça 6\n",
            " O valor total é : 30.0\n"
          ]
        }
      ],
      "source": [
        "#entrada\n",
        "valor = float(input(\"Quanto é o valor da peça \"))\n",
        "quantidade = float(input(\" Qual é a quantidade da peça \"))\n",
        "\n",
        "#processamento\n",
        "vt = quantidade * valor\n",
        "\n",
        "#saida\n",
        "print(\" O valor total é :\" ,vt)"
      ]
    },
    {
      "cell_type": "code",
      "execution_count": null,
      "metadata": {
        "id": "65MrUMH5oZIB"
      },
      "outputs": [],
      "source": [
        "#entrada\n",
        "tri = float(input(\" Me mande um numeros para triplicar o seu valor : \"))\n",
        "\n",
        "#processamento\n",
        "vl = tri * 3\n",
        "\n",
        "#saida\n",
        "print(\" Seu valor é equivalente a \", vl)"
      ]
    },
    {
      "cell_type": "code",
      "execution_count": null,
      "metadata": {
        "id": "eKm2uVbOq5a6",
        "colab": {
          "base_uri": "https://localhost:8080/"
        },
        "outputId": "2b6cd21b-2c63-480c-9c38-8ecb2ebcafc5"
      },
      "outputs": [
        {
          "output_type": "stream",
          "name": "stdout",
          "text": [
            "Qual a temperatura em Celcios20\n",
            "Está no momento em Fahrenheit : 68.0\n"
          ]
        }
      ],
      "source": [
        "#entrada\n",
        "\n",
        "cel =float(input(\"Qual a temperatura em Celcios\"))\n",
        "\n",
        "#processamento\n",
        "far = cel * 1.8 + 32\n",
        "\n",
        "#saida\n",
        "\n",
        "print(\"Está no momento em Fahrenheit :\" , far)\n"
      ]
    },
    {
      "cell_type": "code",
      "execution_count": null,
      "metadata": {
        "colab": {
          "base_uri": "https://localhost:8080/"
        },
        "outputId": "a1c2d748-c0c5-40f8-e690-425d4a82d5f8",
        "id": "EzqvPE5Ov5m5"
      },
      "outputs": [
        {
          "output_type": "stream",
          "name": "stdout",
          "text": [
            "Qual a temperatura em Fahrenheit ? 68\n",
            "Está no momento em Celsios : 20.0\n"
          ]
        }
      ],
      "source": [
        "#entrada\n",
        "\n",
        "fah =float(input(\"Qual a temperatura em Fahrenheit ? \"))\n",
        "\n",
        "#processamento\n",
        "c = (fah - 32) / 1.8\n",
        "\n",
        "#saida\n",
        "\n",
        "print(\"Está no momento em Celsios :\" , c)\n"
      ]
    },
    {
      "cell_type": "code",
      "source": [
        "#entrada\n",
        "\n",
        "km = float(input(\" Quantos kilometros deseja ultilizar :\"))\n",
        "\n",
        "#processamento\n",
        "\n",
        "mi = km * 1.609\n",
        "\n",
        "#saida\n",
        "print(\"Em milhas será :\" , mi)"
      ],
      "metadata": {
        "id": "sts_crg_yqg3"
      },
      "execution_count": null,
      "outputs": []
    },
    {
      "cell_type": "code",
      "source": [
        "#entrada\n",
        "\n",
        "mil = float(input(\" Quantas milhas deseja utilizar :\"))\n",
        "\n",
        "#processamento\n",
        "\n",
        "klm = mil / 1.609\n",
        "\n",
        "#saida\n",
        "print(\"Em quilometros será :\" , klm)"
      ],
      "metadata": {
        "id": "wqzZNUGAz6qS"
      },
      "execution_count": null,
      "outputs": []
    },
    {
      "cell_type": "markdown",
      "source": [
        "Calculadora (À parte) Feita por: Flávio e Davi Luís\n"
      ],
      "metadata": {
        "id": "NztKYYOP7ChG"
      }
    },
    {
      "cell_type": "code",
      "source": [
        "import math\n",
        "\n",
        "conta = input(\"Qual operaçao?\")\n",
        "\n",
        "\n",
        "if conta == \"divisão\":\n",
        "  div1 = float(input(\"Qual é o dividido?\"))\n",
        "  div2 = float(input(\"Qual é o divisor?\"))\n",
        "\n",
        "  final = div1 / div2\n",
        "\n",
        "  print(final)\n",
        "\n",
        "\n",
        "if conta == \"multiplicação\":\n",
        "  mul1 = float(input(\"Qual é o multiplicado?\"))\n",
        "  mul2 = float(input(\"Qual é o multiplicador?\"))\n",
        "\n",
        "  final2 = mul1 * mul2\n",
        "\n",
        "  print(final2)\n",
        "\n",
        "if conta == \"soma\":\n",
        "  som1 = float(input(\"Qual é o primeiro numero?\"))\n",
        "  som2 = float(input(\"Qual é o segundo numero?\"))\n",
        "\n",
        "  final3 = som1 + som2\n",
        "\n",
        "  print(final3)\n",
        "\n",
        "if conta == \"subtração\":\n",
        "  sub1 = float(input(\"Qual é o primeiro numero?\"))\n",
        "  sub2 = float(input(\"Qual é o segundo numero?\"))\n",
        "\n",
        "  final4 = sub1 - sub2\n",
        "\n",
        "  print(final4)\n",
        "\n",
        "if conta == \"porcentagem\":\n",
        "  por1 = float(input(\"Qual é a porcentagem?\"))\n",
        "  por2 = float(input(\"Qual é o total?\"))\n",
        "\n",
        "  final5 = (por1 / 100) * por2\n",
        "\n",
        "  print(final5)\n",
        "\n",
        "if conta == \"potenciação\":\n",
        "  pot1 = float(input(\"Qual é a base?\"))\n",
        "  pot2 = float(input(\"Qual é o expoente?\"))\n",
        "\n",
        "  final6 = pot1 ** pot2\n",
        "\n",
        "  print(final6)\n",
        "\n",
        "if conta == \"radiciação\":\n",
        "\n",
        "  numero = int(input(\"Coloque a base\"))\n",
        "  raiz_quadrada = math.sqrt(numero)\n",
        "  print(raiz_quadrada)"
      ],
      "metadata": {
        "id": "niJbKvqxysuv",
        "colab": {
          "base_uri": "https://localhost:8080/"
        },
        "outputId": "91730c36-2c98-4065-ba8a-42f74cd466b8"
      },
      "execution_count": null,
      "outputs": [
        {
          "output_type": "stream",
          "name": "stdout",
          "text": [
            "Qual operaçao?porcentagem\n",
            "Qual é a porcentagem?10\n",
            "Qual é o total?70\n",
            "7.0\n"
          ]
        }
      ]
    }
  ],
  "metadata": {
    "colab": {
      "provenance": [],
      "authorship_tag": "ABX9TyNDqcevYtXwBNxOyLLcdWsa",
      "include_colab_link": true
    },
    "kernelspec": {
      "display_name": "Python 3",
      "name": "python3"
    },
    "language_info": {
      "name": "python"
    }
  },
  "nbformat": 4,
  "nbformat_minor": 0
}